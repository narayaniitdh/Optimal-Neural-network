{
 "cells": [
  {
   "cell_type": "code",
   "execution_count": 14,
   "metadata": {},
   "outputs": [],
   "source": [
    "import numpy as np\n",
    "import pandas as pd\n",
    "import tensorflow as tf\n",
    "from tensorflow.keras.optimizers import Adam\n",
    "from sklearn.model_selection import train_test_split\n",
    "from sklearn.metrics import accuracy_score\n",
    "import random\n",
    "from sklearn.preprocessing import StandardScaler\n"
   ]
  },
  {
   "cell_type": "code",
   "execution_count": 19,
   "metadata": {},
   "outputs": [],
   "source": [
    "# Configure TensorFlow to use GPU\n",
    "physical_devices = tf.config.list_physical_devices('GPU')\n",
    "if len(physical_devices) > 0:\n",
    "    tf.config.experimental.set_memory_growth(physical_devices[0], True)"
   ]
  },
  {
   "cell_type": "code",
   "execution_count": 15,
   "metadata": {},
   "outputs": [],
   "source": [
    "#Dataset preprocessing for dataset-2\n",
    "\n",
    "# Load your CSV data using pandas\n",
    "data2 = pd.read_csv('cwru_bearing.csv')\n",
    "import pandas as pd\n",
    "\n",
    "# Step 1: Identify unique labels in the last column\n",
    "unique_labels = data2['fault'].unique()\n",
    "\n",
    "# Step 2: Create a mapping from labels to numbers\n",
    "label_to_number = {label: index for index, label in enumerate(unique_labels)}\n",
    "\n",
    "# Step 3: Replace labels with corresponding numbers\n",
    "data2['fault'] = data2['fault'].map(label_to_number)\n",
    "\n",
    "# Now, 'Y' contains numeric labels from 0-9\n",
    "\n",
    "# You can save the modified DataFrame to a new CSV file if needed\n",
    "# data2.to_csv('cwru_bearing_numeric_labels.csv', index=False)\n",
    "# Standardize the data\n",
    "\n",
    "X2 = data2.iloc[:, 0:9].values  # Features\n",
    "y2 = data2.iloc[:, 9].values  # Labels\n",
    "\n",
    "# Standardize the data\n",
    "scaler = StandardScaler()\n",
    "X2 = scaler.fit_transform(X2)"
   ]
  },
  {
   "cell_type": "code",
   "execution_count": 16,
   "metadata": {},
   "outputs": [],
   "source": [
    "#for reading dataset-1\n",
    "# Load your CSV data1 using pandas\n",
    "data1 = pd.read_csv('classData.csv')\n",
    "\n",
    "# Combine the values of the first 4 columns into a new column\n",
    "data1['Combination'] = data1.apply(lambda row: ''.join(map(str, row[:4])), axis=1)\n",
    "\n",
    "# Find unique combinations and assign label numbers\n",
    "unique_combinations = data1['Combination'].unique()\n",
    "label_mapping = {combination: label for label, combination in enumerate(unique_combinations)}\n",
    "\n",
    "# Add a new column with the label numbers\n",
    "data1['Label'] = data1['Combination'].map(label_mapping)\n",
    "\n",
    "X1 = data1.iloc[:, 4:10].values  # Features\n",
    "y1 = data1.iloc[:, 11:].values  # Labels\n",
    "\n",
    "# Standardize the data\n",
    "scaler = StandardScaler()\n",
    "X1 = scaler.fit_transform(X1)\n",
    "\n",
    "# One-hot encode the labels\n",
    "# y1_encoded = to_categorical(y1, num_classes=6)\n",
    "num_classes=6\n",
    "y1_encoded = y1"
   ]
  },
  {
   "cell_type": "code",
   "execution_count": 17,
   "metadata": {},
   "outputs": [],
   "source": [
    "\n",
    "# Define a simple neural network model\n",
    "def create_model(input_shape, num_classes, num_layers):\n",
    "    model = tf.keras.Sequential()\n",
    "    model.add(tf.keras.layers.Dense(64, activation='relu', input_shape=input_shape))\n",
    "    \n",
    "    for _ in range(num_layers):\n",
    "        model.add(tf.keras.layers.Dense(32, activation='relu'))\n",
    "    \n",
    "    model.add(tf.keras.layers.Dense(num_classes, activation='softmax'))\n",
    "    \n",
    "    return model\n",
    "\n",
    "# Define the fitness function\n",
    "def fitness_function(model, X_train, y_train, X_test, y_test):\n",
    "    model.compile(loss='sparse_categorical_crossentropy', optimizer=Adam(learning_rate=0.001), metrics=['accuracy'])\n",
    "    model.fit(X_train, y_train, epochs=10, verbose=0)\n",
    "    y_pred = model.predict(X_test)\n",
    "    accuracy = accuracy_score(y_test, np.argmax(y_pred, axis=1))\n",
    "    return accuracy\n",
    "\n",
    "# Generate initial population with different layer combinations\n",
    "def generate_initial_population(input_shape, num_classes, max_layers, population_size):\n",
    "    population = []\n",
    "    for _ in range(population_size):\n",
    "        num_layers = random.randint(1, max_layers)\n",
    "        model = create_model(input_shape, num_classes, num_layers)\n",
    "        population.append(model)\n",
    "    return population\n",
    "\n",
    "# Evolutionary algorithm to optimize layers and weights\n",
    "def evolve_population(population, X_train, y_train, X_test, y_test, num_generations, mutation_rate,input_shape):\n",
    "    for generation in range(num_generations):\n",
    "        fitness_scores = [fitness_function(model, X_train, y_train, X_test, y_test) for model in population]\n",
    "        \n",
    "        # Select the top-performing models (elitism)\n",
    "        num_parents = 3\n",
    "        parents = np.argsort(fitness_scores)[-num_parents:]\n",
    "        \n",
    "        # Crossover and mutation\n",
    "        new_population = []\n",
    "        for i in range(len(population)):\n",
    "            parent1 = random.choice(parents)\n",
    "            parent2 = random.choice(parents)\n",
    "            \n",
    "            # Crossover: Take layers from parents\n",
    "            num_layers = population[parent1].count_params()\n",
    "            child_model = create_model(input_shape, num_classes, num_layers)\n",
    "            \n",
    "            # Mutation: Randomly add or remove layers\n",
    "            if random.random() < mutation_rate:\n",
    "                num_mutations = random.randint(-1, 1)  # Adjust the range as needed\n",
    "                num_layers += num_mutations\n",
    "            \n",
    "            new_population.append(create_model(input_shape, num_classes, num_layers))\n",
    "        \n",
    "        population = new_population\n",
    "    \n",
    "    # Return the best model from the final generation\n",
    "    best_model = population[np.argmax(fitness_scores)]\n",
    "    best_accuracy = fitness_scores[np.argmax(fitness_scores)]\n",
    "    return best_model, best_accuracy\n"
   ]
  },
  {
   "cell_type": "code",
   "execution_count": 20,
   "metadata": {},
   "outputs": [
    {
     "name": "stdout",
     "output_type": "stream",
     "text": [
      "50/50 [==============================] - 0s 1ms/step\n",
      "50/50 [==============================] - 0s 828us/step\n",
      "50/50 [==============================] - 0s 867us/step\n",
      "50/50 [==============================] - 0s 944us/step\n",
      "50/50 [==============================] - 0s 717us/step\n",
      "50/50 [==============================] - 0s 795us/step\n",
      "50/50 [==============================] - 0s 852us/step\n",
      "50/50 [==============================] - 0s 804us/step\n",
      "50/50 [==============================] - 0s 797us/step\n",
      "50/50 [==============================] - 0s 836us/step\n"
     ]
    },
    {
     "ename": "RecursionError",
     "evalue": "maximum recursion depth exceeded",
     "output_type": "error",
     "traceback": [
      "\u001b[1;31m---------------------------------------------------------------------------\u001b[0m",
      "\u001b[1;31mRecursionError\u001b[0m                            Traceback (most recent call last)",
      "\u001b[1;32md:\\RnD\\evo_algo_layers.ipynb Cell 6\u001b[0m line \u001b[0;36m1\n\u001b[0;32m      <a href='vscode-notebook-cell:/d%3A/RnD/evo_algo_layers.ipynb#W5sZmlsZQ%3D%3D?line=8'>9</a>\u001b[0m population_size1 \u001b[39m=\u001b[39m \u001b[39m10\u001b[39m\n\u001b[0;32m     <a href='vscode-notebook-cell:/d%3A/RnD/evo_algo_layers.ipynb#W5sZmlsZQ%3D%3D?line=10'>11</a>\u001b[0m initial_population1 \u001b[39m=\u001b[39m generate_initial_population(input_shape1, num_classes1, max_layers1, population_size1)\n\u001b[1;32m---> <a href='vscode-notebook-cell:/d%3A/RnD/evo_algo_layers.ipynb#W5sZmlsZQ%3D%3D?line=11'>12</a>\u001b[0m best_model1, best_accuracy1 \u001b[39m=\u001b[39m evolve_population(initial_population1, X_train1, y_train1, X_test1, y_test1, \u001b[39m10\u001b[39;49m, \u001b[39m0.1\u001b[39;49m,input_shape1)\n",
      "\u001b[1;32md:\\RnD\\evo_algo_layers.ipynb Cell 6\u001b[0m line \u001b[0;36m4\n\u001b[0;32m     <a href='vscode-notebook-cell:/d%3A/RnD/evo_algo_layers.ipynb#W5sZmlsZQ%3D%3D?line=44'>45</a>\u001b[0m \u001b[39m# Crossover: Take layers from parents\u001b[39;00m\n\u001b[0;32m     <a href='vscode-notebook-cell:/d%3A/RnD/evo_algo_layers.ipynb#W5sZmlsZQ%3D%3D?line=45'>46</a>\u001b[0m num_layers \u001b[39m=\u001b[39m population[parent1]\u001b[39m.\u001b[39mcount_params()\n\u001b[1;32m---> <a href='vscode-notebook-cell:/d%3A/RnD/evo_algo_layers.ipynb#W5sZmlsZQ%3D%3D?line=46'>47</a>\u001b[0m child_model \u001b[39m=\u001b[39m create_model(input_shape, num_classes, num_layers)\n\u001b[0;32m     <a href='vscode-notebook-cell:/d%3A/RnD/evo_algo_layers.ipynb#W5sZmlsZQ%3D%3D?line=48'>49</a>\u001b[0m \u001b[39m# Mutation: Randomly add or remove layers\u001b[39;00m\n\u001b[0;32m     <a href='vscode-notebook-cell:/d%3A/RnD/evo_algo_layers.ipynb#W5sZmlsZQ%3D%3D?line=49'>50</a>\u001b[0m \u001b[39mif\u001b[39;00m random\u001b[39m.\u001b[39mrandom() \u001b[39m<\u001b[39m mutation_rate:\n",
      "\u001b[1;32md:\\RnD\\evo_algo_layers.ipynb Cell 6\u001b[0m line \u001b[0;36m7\n\u001b[0;32m      <a href='vscode-notebook-cell:/d%3A/RnD/evo_algo_layers.ipynb#W5sZmlsZQ%3D%3D?line=3'>4</a>\u001b[0m model\u001b[39m.\u001b[39madd(tf\u001b[39m.\u001b[39mkeras\u001b[39m.\u001b[39mlayers\u001b[39m.\u001b[39mDense(\u001b[39m64\u001b[39m, activation\u001b[39m=\u001b[39m\u001b[39m'\u001b[39m\u001b[39mrelu\u001b[39m\u001b[39m'\u001b[39m, input_shape\u001b[39m=\u001b[39minput_shape))\n\u001b[0;32m      <a href='vscode-notebook-cell:/d%3A/RnD/evo_algo_layers.ipynb#W5sZmlsZQ%3D%3D?line=5'>6</a>\u001b[0m \u001b[39mfor\u001b[39;00m _ \u001b[39min\u001b[39;00m \u001b[39mrange\u001b[39m(num_layers):\n\u001b[1;32m----> <a href='vscode-notebook-cell:/d%3A/RnD/evo_algo_layers.ipynb#W5sZmlsZQ%3D%3D?line=6'>7</a>\u001b[0m     model\u001b[39m.\u001b[39;49madd(tf\u001b[39m.\u001b[39;49mkeras\u001b[39m.\u001b[39;49mlayers\u001b[39m.\u001b[39;49mDense(\u001b[39m32\u001b[39;49m, activation\u001b[39m=\u001b[39;49m\u001b[39m'\u001b[39;49m\u001b[39mrelu\u001b[39;49m\u001b[39m'\u001b[39;49m))\n\u001b[0;32m      <a href='vscode-notebook-cell:/d%3A/RnD/evo_algo_layers.ipynb#W5sZmlsZQ%3D%3D?line=8'>9</a>\u001b[0m model\u001b[39m.\u001b[39madd(tf\u001b[39m.\u001b[39mkeras\u001b[39m.\u001b[39mlayers\u001b[39m.\u001b[39mDense(num_classes, activation\u001b[39m=\u001b[39m\u001b[39m'\u001b[39m\u001b[39msoftmax\u001b[39m\u001b[39m'\u001b[39m))\n\u001b[0;32m     <a href='vscode-notebook-cell:/d%3A/RnD/evo_algo_layers.ipynb#W5sZmlsZQ%3D%3D?line=10'>11</a>\u001b[0m \u001b[39mreturn\u001b[39;00m model\n",
      "File \u001b[1;32m~\\AppData\\Local\\Packages\\PythonSoftwareFoundation.Python.3.11_qbz5n2kfra8p0\\LocalCache\\local-packages\\Python311\\site-packages\\tensorflow\\python\\trackable\\base.py:204\u001b[0m, in \u001b[0;36mno_automatic_dependency_tracking.<locals>._method_wrapper\u001b[1;34m(self, *args, **kwargs)\u001b[0m\n\u001b[0;32m    202\u001b[0m \u001b[39mself\u001b[39m\u001b[39m.\u001b[39m_self_setattr_tracking \u001b[39m=\u001b[39m \u001b[39mFalse\u001b[39;00m  \u001b[39m# pylint: disable=protected-access\u001b[39;00m\n\u001b[0;32m    203\u001b[0m \u001b[39mtry\u001b[39;00m:\n\u001b[1;32m--> 204\u001b[0m   result \u001b[39m=\u001b[39m method(\u001b[39mself\u001b[39;49m, \u001b[39m*\u001b[39;49margs, \u001b[39m*\u001b[39;49m\u001b[39m*\u001b[39;49mkwargs)\n\u001b[0;32m    205\u001b[0m \u001b[39mfinally\u001b[39;00m:\n\u001b[0;32m    206\u001b[0m   \u001b[39mself\u001b[39m\u001b[39m.\u001b[39m_self_setattr_tracking \u001b[39m=\u001b[39m previous_value  \u001b[39m# pylint: disable=protected-access\u001b[39;00m\n",
      "File \u001b[1;32m~\\AppData\\Local\\Packages\\PythonSoftwareFoundation.Python.3.11_qbz5n2kfra8p0\\LocalCache\\local-packages\\Python311\\site-packages\\keras\\src\\utils\\traceback_utils.py:70\u001b[0m, in \u001b[0;36mfilter_traceback.<locals>.error_handler\u001b[1;34m(*args, **kwargs)\u001b[0m\n\u001b[0;32m     67\u001b[0m     filtered_tb \u001b[39m=\u001b[39m _process_traceback_frames(e\u001b[39m.\u001b[39m__traceback__)\n\u001b[0;32m     68\u001b[0m     \u001b[39m# To get the full stack trace, call:\u001b[39;00m\n\u001b[0;32m     69\u001b[0m     \u001b[39m# `tf.debugging.disable_traceback_filtering()`\u001b[39;00m\n\u001b[1;32m---> 70\u001b[0m     \u001b[39mraise\u001b[39;00m e\u001b[39m.\u001b[39mwith_traceback(filtered_tb) \u001b[39mfrom\u001b[39;00m \u001b[39mNone\u001b[39;00m\n\u001b[0;32m     71\u001b[0m \u001b[39mfinally\u001b[39;00m:\n\u001b[0;32m     72\u001b[0m     \u001b[39mdel\u001b[39;00m filtered_tb\n",
      "File \u001b[1;32m~\\AppData\\Local\\Packages\\PythonSoftwareFoundation.Python.3.11_qbz5n2kfra8p0\\LocalCache\\local-packages\\Python311\\site-packages\\keras\\src\\engine\\functional.py:1216\u001b[0m, in \u001b[0;36m_build_map_helper\u001b[1;34m(tensor, finished_nodes, nodes_in_progress, nodes_in_decreasing_depth, layer_indices)\u001b[0m\n\u001b[0;32m   1210\u001b[0m \u001b[39m\u001b[39m\u001b[39m\"\"\"Recursive helper for `_build_map`.\"\"\"\u001b[39;00m\n\u001b[0;32m   1211\u001b[0m (\n\u001b[0;32m   1212\u001b[0m     layer,\n\u001b[0;32m   1213\u001b[0m     node_index,\n\u001b[0;32m   1214\u001b[0m     _,\n\u001b[0;32m   1215\u001b[0m ) \u001b[39m=\u001b[39m tensor\u001b[39m.\u001b[39m_keras_history\n\u001b[1;32m-> 1216\u001b[0m node \u001b[39m=\u001b[39m layer\u001b[39m.\u001b[39;49m_inbound_nodes[node_index]\n\u001b[0;32m   1218\u001b[0m \u001b[39m# Don't repeat work for shared subgraphs\u001b[39;00m\n\u001b[0;32m   1219\u001b[0m \u001b[39mif\u001b[39;00m node \u001b[39min\u001b[39;00m finished_nodes:\n",
      "\u001b[1;31mRecursionError\u001b[0m: maximum recursion depth exceeded"
     ]
    }
   ],
   "source": [
    "#Compiling and testing model for dataset-1\n",
    "\n",
    "#Splitting dataset-1 into train and test\n",
    "X_train1, X_test1, y_train1, y_test1 = train_test_split(X1, y1_encoded, test_size=0.2, random_state=42)\n",
    "\n",
    "input_shape1=(X_train1.shape[1],)\n",
    "num_classes1=6\n",
    "max_layers1 = 4\n",
    "population_size1 = 10\n",
    "\n",
    "initial_population1 = generate_initial_population(input_shape1, num_classes1, max_layers1, population_size1)\n",
    "best_model1, best_accuracy1 = evolve_population(initial_population1, X_train1, y_train1, X_test1, y_test1, 10, 0.1,input_shape1)\n"
   ]
  },
  {
   "cell_type": "code",
   "execution_count": null,
   "metadata": {},
   "outputs": [],
   "source": [
    "#Compiling and testing model for dataset-2\n",
    "\n",
    "#Splitting dataset-1 into train and test\n",
    "X_train2, X_test2, y_train2, y_test2 = train_test_split(X2, y2, test_size=0.2, random_state=42)\n",
    "num_classes2=10\n",
    "input_shape2=(X_train2.shape[1],)\n",
    "max_layers2 = 4\n",
    "population_size2 = 10\n",
    "\n",
    "initial_population2 = generate_initial_population(input_shape2, num_classes2, max_layers2, population_size2)\n",
    "best_model2, best_accuracy2 = evolve_population(initial_population2, X_train2, y_train2, X_test2, y_test2, 10, 0.1,input_shape2)\n"
   ]
  },
  {
   "cell_type": "code",
   "execution_count": null,
   "metadata": {},
   "outputs": [],
   "source": [
    "\n",
    "# Print best accuracies\n",
    "print(f\"Best accuracy for Dataset-1: {best_accuracy1}\")\n",
    "print(f\"Best accuracy for Dataset-2: {best_accuracy2}\")\n"
   ]
  }
 ],
 "metadata": {
  "kernelspec": {
   "display_name": "Python 3",
   "language": "python",
   "name": "python3"
  },
  "language_info": {
   "codemirror_mode": {
    "name": "ipython",
    "version": 3
   },
   "file_extension": ".py",
   "mimetype": "text/x-python",
   "name": "python",
   "nbconvert_exporter": "python",
   "pygments_lexer": "ipython3",
   "version": "3.11.5"
  }
 },
 "nbformat": 4,
 "nbformat_minor": 2
}
